{
  "nbformat": 4,
  "nbformat_minor": 0,
  "metadata": {
    "colab": {
      "provenance": [],
      "include_colab_link": true
    },
    "kernelspec": {
      "name": "python3",
      "display_name": "Python 3"
    },
    "language_info": {
      "name": "python"
    }
  },
  "cells": [
    {
      "cell_type": "markdown",
      "metadata": {
        "id": "view-in-github",
        "colab_type": "text"
      },
      "source": [
        "<a href=\"https://colab.research.google.com/github/alianasimoes/oficinaPhyton/blob/main/Exerc%C3%ADcio_Final_sabado_aliana.ipynb\" target=\"_parent\"><img src=\"https://colab.research.google.com/assets/colab-badge.svg\" alt=\"Open In Colab\"/></a>"
      ]
    },
    {
      "cell_type": "markdown",
      "source": [
        "# Contagem de Medalhas\n",
        "\n",
        "Crie um programa que receba o número de medalhas de ouro, prata e bronze de um país nas Olimpíadas e calcule o total de medalhas.\n",
        "Quando escrever 'sair', o programa deverá encerrar e mostrar na tela o ranking de medalhas no formato:"
      ],
      "metadata": {
        "id": "RQN1e5FZY6SZ"
      }
    },
    {
      "cell_type": "code",
      "source": [
        "#Ranking de medalhas:\n",
        "#Brasil: 7 medalhas\n",
        "#França: 6 medalhas\n",
        "#Argentina: 3 medalhas"
      ],
      "metadata": {
        "id": "gCq_KLHzZSzb"
      },
      "execution_count": null,
      "outputs": []
    },
    {
      "cell_type": "code",
      "source": [],
      "metadata": {
        "id": "mjNvGKR__c45"
      },
      "execution_count": null,
      "outputs": []
    },
    {
      "cell_type": "code",
      "execution_count": 10,
      "metadata": {
        "id": "AJJhjxiPTd5s",
        "colab": {
          "base_uri": "https://localhost:8080/"
        },
        "outputId": "d236f9b5-5176-47ec-f050-458fe9d9de37"
      },
      "outputs": [
        {
          "output_type": "stream",
          "name": "stdout",
          "text": [
            "Digite o nome do país (ou 'sair' para encerrar): brasil\n",
            "Qual é o numero de medalhas de ouro?23\n",
            "Qual é o numero de medalhas do prata?2\n",
            "Qual é o numero de medalhas do bronze?1\n",
            "Digite o nome do país (ou 'sair' para encerrar): bolivia\n",
            "Qual é o numero de medalhas de ouro?1\n",
            "Qual é o numero de medalhas do prata?2\n",
            "Qual é o numero de medalhas do bronze?3\n",
            "Digite o nome do país (ou 'sair' para encerrar): sair\n",
            "\n",
            "Contagem de Medalhas:\n",
            "brasil: 26 medalhas\n",
            "bolivia: 6 medalhas\n"
          ]
        }
      ],
      "source": [
        "# Resposta aqui\n",
        "paises ={}\n",
        "\n",
        "while True:\n",
        "    nome_pais = input(\"Digite o nome do país (ou 'sair' para encerrar): \")\n",
        "    if nome_pais.lower() == 'sair':\n",
        "        break\n",
        "\n",
        "    ouro = int(input('Qual é o numero de medalhas de ouro?'))\n",
        "    prata = int(input('Qual é o numero de medalhas do prata?'))\n",
        "    bronze = int(input('Qual é o numero de medalhas do bronze?'))\n",
        "    soma_medalha = ouro + prata + bronze\n",
        "\n",
        "    paises[nome_pais] = soma_medalha\n",
        "\n",
        "\n",
        "ranking = sorted(paises.items(), key=lambda x: x[1], reverse=True)\n",
        "\n",
        "print(\"\\nContagem de Medalhas:\")\n",
        "for nome_pais, soma_medalha in ranking:\n",
        "    print(f\"{nome_pais}: {soma_medalha} medalhas\")\n",
        "\n",
        "\n"
      ]
    }
  ]
}