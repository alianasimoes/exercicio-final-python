{
  "nbformat": 4,
  "nbformat_minor": 0,
  "metadata": {
    "colab": {
      "provenance": [],
      "authorship_tag": "ABX9TyOt+zXTzMFR4/fby2vBES9X",
      "include_colab_link": true
    },
    "kernelspec": {
      "name": "python3",
      "display_name": "Python 3"
    },
    "language_info": {
      "name": "python"
    }
  },
  "cells": [
    {
      "cell_type": "markdown",
      "metadata": {
        "id": "view-in-github",
        "colab_type": "text"
      },
      "source": [
        "<a href=\"https://colab.research.google.com/github/alianasimoes/oficinaPhyton/blob/main/ExercicioPretalab.ipynb\" target=\"_parent\"><img src=\"https://colab.research.google.com/assets/colab-badge.svg\" alt=\"Open In Colab\"/></a>"
      ]
    },
    {
      "cell_type": "code",
      "execution_count": 10,
      "metadata": {
        "id": "AoAkU-085e5j",
        "colab": {
          "base_uri": "https://localhost:8080/"
        },
        "outputId": "267b6b6d-2c18-4651-a5ef-19669f2bf965"
      },
      "outputs": [
        {
          "output_type": "stream",
          "name": "stdout",
          "text": [
            "O Livro está disponível!\n",
            "O livro 'Dom Casmurro' está disponível: False\n",
            "O livro '1984' está disponível: True\n",
            "O livro 'O Pequeno Príncipe' está disponível: True\n"
          ]
        }
      ],
      "source": [
        "class Livro:\n",
        "    def __init__(self, titulo, autor, disponivel):\n",
        "        self.titulo = titulo\n",
        "        self.autor = autor\n",
        "        self.disponivel = True\n",
        "    def emprestar(self):\n",
        "        if self.disponivel:\n",
        "            self.disponivel = False\n",
        "            print(\"O Livro está disponível!\")\n",
        "        else:\n",
        "            print(\"O Livro não está disponível para empréstimo.\")\n",
        "\n",
        "biblioteca = [\n",
        "    Livro(\"Dom Casmurro\", \"Machado de Asis\", False),\n",
        "    Livro(\"1984\", \"George Orwell\", True),\n",
        "    Livro(\"O Pequeno Príncipe\", \"Antoine de Saint-Exupéry\", False)\n",
        "]\n",
        "\n",
        "livro_emprestado = biblioteca[0]\n",
        "livro_emprestado.emprestar()\n",
        "\n",
        "for Livro in biblioteca:\n",
        "    print(f\"O livro '{Livro.titulo}' está disponível: {Livro.disponivel}\")"
      ]
    },
    {
      "cell_type": "code",
      "source": [
        "import numpy as np\n",
        "numeropagina = np.array([200, 328, 96])\n",
        "\n",
        "mascara = numeropagina > 100\n",
        "print(mascara)\n",
        "print(numeropagina)"
      ],
      "metadata": {
        "id": "Ztt8nb_DFhvp",
        "outputId": "d0e16f75-b8f6-46d9-96c5-07111e0b34e6",
        "colab": {
          "base_uri": "https://localhost:8080/"
        }
      },
      "execution_count": 13,
      "outputs": [
        {
          "output_type": "stream",
          "name": "stdout",
          "text": [
            "[ True  True False]\n",
            "[200 328  96]\n"
          ]
        }
      ]
    },
    {
      "cell_type": "code",
      "source": [
        "import numpy as np\n",
        "anopublicacao = np.array([1899,\n",
        "1949, 1943])\n",
        "\n",
        "def calcular_media(anopublicacao):\n",
        "    return np.mean(anopublicacao)\n",
        "\n",
        "media = calcular_media(anopublicacao)\n",
        "print(media)\n",
        "\n",
        "\n"
      ],
      "metadata": {
        "id": "nK5t0ZfbG5jC",
        "outputId": "19dcea2d-eb25-4377-a742-c41805103773",
        "colab": {
          "base_uri": "https://localhost:8080/"
        }
      },
      "execution_count": 15,
      "outputs": [
        {
          "output_type": "stream",
          "name": "stdout",
          "text": [
            "1930.3333333333333\n"
          ]
        }
      ]
    }
  ]
}