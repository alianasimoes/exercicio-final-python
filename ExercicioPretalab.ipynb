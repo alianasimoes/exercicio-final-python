{
  "nbformat": 4,
  "nbformat_minor": 0,
  "metadata": {
    "colab": {
      "provenance": [],
      "authorship_tag": "ABX9TyM/7+RL9akzh5aNcCbwJcp9",
      "include_colab_link": true
    },
    "kernelspec": {
      "name": "python3",
      "display_name": "Python 3"
    },
    "language_info": {
      "name": "python"
    }
  },
  "cells": [
    {
      "cell_type": "markdown",
      "metadata": {
        "id": "view-in-github",
        "colab_type": "text"
      },
      "source": [
        "<a href=\"https://colab.research.google.com/github/alianasimoes/oficinaPhyton/blob/main/ExercicioPretalab.ipynb\" target=\"_parent\"><img src=\"https://colab.research.google.com/assets/colab-badge.svg\" alt=\"Open In Colab\"/></a>"
      ]
    },
    {
      "cell_type": "code",
      "execution_count": 10,
      "metadata": {
        "id": "AoAkU-085e5j",
        "outputId": "267b6b6d-2c18-4651-a5ef-19669f2bf965",
        "colab": {
          "base_uri": "https://localhost:8080/"
        }
      },
      "outputs": [
        {
          "output_type": "stream",
          "name": "stdout",
          "text": [
            "O Livro está disponível!\n",
            "O livro 'Dom Casmurro' está disponível: False\n",
            "O livro '1984' está disponível: True\n",
            "O livro 'O Pequeno Príncipe' está disponível: True\n"
          ]
        }
      ],
      "source": [
        "class Livro:\n",
        "    def __init__(self, titulo, autor, disponivel):\n",
        "        self.titulo = titulo\n",
        "        self.autor = autor\n",
        "        self.disponivel = True\n",
        "    def emprestar(self):\n",
        "        if self.disponivel:\n",
        "            self.disponivel = False\n",
        "            print(\"O Livro está disponível!\")\n",
        "        else:\n",
        "            print(\"O Livro não está disponível para empréstimo.\")\n",
        "\n",
        "biblioteca = [\n",
        "    Livro(\"Dom Casmurro\", \"Machado de Asis\", False),\n",
        "    Livro(\"1984\", \"George Orwell\", True),\n",
        "    Livro(\"O Pequeno Príncipe\", \"Antoine de Saint-Exupéry\", False)\n",
        "]\n",
        "\n",
        "livro_emprestado = biblioteca[0]\n",
        "livro_emprestado.emprestar()\n",
        "\n",
        "for Livro in biblioteca:\n",
        "    print(f\"O livro '{Livro.titulo}' está disponível: {Livro.disponivel}\")"
      ]
    },
    {
      "cell_type": "code",
      "source": [
        "biblioteca = [\n",
        "    Livro(\"Dom Casmurro\", \"Machado de Asis\", True),\n",
        "    Livro(\"1984\", \"George Orwell\", True),\n",
        "    Livro(\"O Pequeno Príncipe\", \"Antoine de Saint-Exupéry\", True)\n",
        "]\n",
        "\n",
        "livro_emprestado = biblioteca[0]\n",
        "livro_emprestado.emprestar()\n",
        "\n",
        "for livro in biblioteca:\n",
        "    print(f\"O livro '{livro.titulo}' está disponível: {livro.disponivel}\")"
      ],
      "metadata": {
        "id": "OJ54lhhl5469",
        "outputId": "98736268-46d0-4489-a7cb-cb28423b5902",
        "colab": {
          "base_uri": "https://localhost:8080/"
        }
      },
      "execution_count": 5,
      "outputs": [
        {
          "output_type": "stream",
          "name": "stdout",
          "text": [
            "O Livro está disponível!\n",
            "O livro 'titulo' está disponível: False\n",
            "O livro 'titulo' está disponível: True\n",
            "O livro 'titulo' está disponível: True\n"
          ]
        }
      ]
    },
    {
      "cell_type": "code",
      "source": [
        "\n",
        "livro_emprestado = biblioteca[0]\n",
        "livro_emprestado.emprestar()\n",
        "\n",
        "for livro in biblioteca:\n",
        "    print(f\"O livro '{livro.titulo}' está disponível: {livro.disponivel}\")\n"
      ],
      "metadata": {
        "id": "Cc7iZriK92xG",
        "outputId": "5407a63e-9b96-4cfc-ff10-944d3dd9d2a5",
        "colab": {
          "base_uri": "https://localhost:8080/",
          "height": 216
        }
      },
      "execution_count": 4,
      "outputs": [
        {
          "output_type": "error",
          "ename": "NameError",
          "evalue": "name 'biblioteca' is not defined",
          "traceback": [
            "\u001b[0;31m---------------------------------------------------------------------------\u001b[0m",
            "\u001b[0;31mNameError\u001b[0m                                 Traceback (most recent call last)",
            "\u001b[0;32m<ipython-input-4-8326fa31fb49>\u001b[0m in \u001b[0;36m<cell line: 0>\u001b[0;34m()\u001b[0m\n\u001b[0;32m----> 1\u001b[0;31m \u001b[0mlivro_emprestado\u001b[0m \u001b[0;34m=\u001b[0m \u001b[0mbiblioteca\u001b[0m\u001b[0;34m[\u001b[0m\u001b[0;36m0\u001b[0m\u001b[0;34m]\u001b[0m\u001b[0;34m\u001b[0m\u001b[0;34m\u001b[0m\u001b[0m\n\u001b[0m\u001b[1;32m      2\u001b[0m \u001b[0mlivro_emprestado\u001b[0m\u001b[0;34m.\u001b[0m\u001b[0memprestar\u001b[0m\u001b[0;34m(\u001b[0m\u001b[0;34m)\u001b[0m\u001b[0;34m\u001b[0m\u001b[0;34m\u001b[0m\u001b[0m\n\u001b[1;32m      3\u001b[0m \u001b[0;34m\u001b[0m\u001b[0m\n\u001b[1;32m      4\u001b[0m \u001b[0;32mfor\u001b[0m \u001b[0mlivro\u001b[0m \u001b[0;32min\u001b[0m \u001b[0mbiblioteca\u001b[0m\u001b[0;34m:\u001b[0m\u001b[0;34m\u001b[0m\u001b[0;34m\u001b[0m\u001b[0m\n\u001b[1;32m      5\u001b[0m     \u001b[0mprint\u001b[0m\u001b[0;34m(\u001b[0m\u001b[0;34mf\"O livro '{livro.titulo}' está disponível: {livro.disponivel}\"\u001b[0m\u001b[0;34m)\u001b[0m\u001b[0;34m\u001b[0m\u001b[0;34m\u001b[0m\u001b[0m\n",
            "\u001b[0;31mNameError\u001b[0m: name 'biblioteca' is not defined"
          ]
        }
      ]
    }
  ]
}